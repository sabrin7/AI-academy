{
 "cells": [
  {
   "cell_type": "markdown",
   "metadata": {},
   "source": [
    "## Linear regression"
   ]
  },
  {
   "cell_type": "code",
   "execution_count": null,
   "metadata": {
    "collapsed": true
   },
   "outputs": [],
   "source": [
    "import numpy as np\n",
    "import matplotlib.pyplot as plt\n",
    "import matplotlib.ticker as ticker\n",
    "\n",
    "from mpl_toolkits.mplot3d import Axes3D\n",
    "from sklearn.linear_model import LinearRegression\n",
    "from sklearn.pipeline import Pipeline\n",
    "from sklearn.preprocessing import StandardScaler\n",
    "\n",
    "%matplotlib inline"
   ]
  },
  {
   "cell_type": "markdown",
   "metadata": {},
   "source": [
    "### Linear regression with one variable"
   ]
  },
  {
   "cell_type": "markdown",
   "metadata": {},
   "source": [
    "#### Load data from CSV file\n",
    "#### - column 1: population (x)\n",
    "#### - column 2: profit (y)"
   ]
  },
  {
   "cell_type": "code",
   "execution_count": null,
   "metadata": {
    "collapsed": true
   },
   "outputs": [],
   "source": [
    "#### In this cell we are going to load the data using np.loadtxt\n",
    "data = np.loadtxt(...)"
   ]
  },
  {
   "cell_type": "code",
   "execution_count": null,
   "metadata": {
    "collapsed": true
   },
   "outputs": [],
   "source": [
    "# Separate features (x) from target (y) using np.hsplit\n",
    "X, y = np.hsplit(...)"
   ]
  },
  {
   "cell_type": "code",
   "execution_count": null,
   "metadata": {
    "collapsed": true
   },
   "outputs": [],
   "source": [
    "# Return number of examples m\n",
    "m = ..."
   ]
  },
  {
   "cell_type": "code",
   "execution_count": null,
   "metadata": {},
   "outputs": [],
   "source": [
    "# Fit a linear regression model (without regularization)\n",
    "model = LinearRegression()\n",
    "model.fit(X, y)"
   ]
  },
  {
   "cell_type": "code",
   "execution_count": null,
   "metadata": {},
   "outputs": [],
   "source": [
    "# Obtain coefficients theta0 and theta1 from model\n",
    "theta0, theta1 = model.intercept_, model.coef_[0]\n",
    "theta0, theta1"
   ]
  },
  {
   "cell_type": "code",
   "execution_count": null,
   "metadata": {},
   "outputs": [],
   "source": [
    "# Plot data and regression line\n",
    "plt.plot(X, y, 'bx', label='Data')\n",
    "plt.plot(X, model.predict(X), 'r-', label='Regression')\n",
    "plt.xlabel('Population')\n",
    "plt.ylabel('Profit')\n",
    "plt.legend()"
   ]
  },
  {
   "cell_type": "code",
   "execution_count": null,
   "metadata": {},
   "outputs": [],
   "source": [
    "# Training mean squared error\n",
    "# Using the np.mean() of the difference between the predcted utput and the actual output. \n",
    "..."
   ]
  },
  {
   "cell_type": "code",
   "execution_count": null,
   "metadata": {},
   "outputs": [],
   "source": [
    "# Training score\n",
    "#To get the accuracy of the model we use modeL.score() \n",
    "..."
   ]
  },
  {
   "cell_type": "code",
   "execution_count": null,
   "metadata": {},
   "outputs": [],
   "source": [
    "# Predict profit for populations of 35.000 and 70.000 using np.array\n",
    "model.predict(...) "
   ]
  },
  {
   "cell_type": "markdown",
   "metadata": {},
   "source": [
    "### Linear regression with multiple variables"
   ]
  },
  {
   "cell_type": "code",
   "execution_count": null,
   "metadata": {
    "collapsed": true
   },
   "outputs": [],
   "source": [
    "# Load data from CSV file\n",
    "# - column 1: house size in feet**2 (x1)\n",
    "# - column 2: number of bedrooms (x2)\n",
    "# - column 3: house price (y)\n",
    "data = ..."
   ]
  },
  {
   "cell_type": "code",
   "execution_count": null,
   "metadata": {
    "collapsed": true
   },
   "outputs": [],
   "source": [
    "# Separate features (x1, x2) from target (y)\n",
    "X, y = ..."
   ]
  },
  {
   "cell_type": "code",
   "execution_count": null,
   "metadata": {
    "collapsed": true
   },
   "outputs": [],
   "source": [
    "# Number of examples\n",
    "m = ..."
   ]
  },
  {
   "cell_type": "code",
   "execution_count": null,
   "metadata": {
    "collapsed": true
   },
   "outputs": [],
   "source": [
    "# Pipeline components\n",
    "scaler = StandardScaler()\n",
    "regr = LinearRegression()\n",
    "\n",
    "# Pipeline of feature scaler and linear regressor\n",
    "model = Pipeline([('scaler', scaler), ('regr', regr)])"
   ]
  },
  {
   "cell_type": "code",
   "execution_count": null,
   "metadata": {},
   "outputs": [],
   "source": [
    "# Run linear regression on scaled features\n",
    "model.fit(X, y)"
   ]
  },
  {
   "cell_type": "code",
   "execution_count": null,
   "metadata": {
    "scrolled": false
   },
   "outputs": [],
   "source": [
    "# Create a grid from feature min and max values\n",
    "grid_range = np.vstack([X.min(axis=0), X.max(axis=0)])\n",
    "grid = np.meshgrid(grid_range[:,0], grid_range[:,1])\n",
    "\n",
    "# Compute predictions from grid values\n",
    "X_grid = np.c_[grid[0].ravel(), grid[1].ravel()]\n",
    "y_grid = model.predict(X_grid).reshape(grid[0].shape)\n",
    "\n",
    "def plot_data_and_regression(fig, fignum, view_angle):\n",
    "    sp = fig.add_subplot(2, 1, fignum, projection='3d')\n",
    "    sp.view_init(view_angle, 90)\n",
    "    sp.set_xlabel('Square feet')\n",
    "    sp.set_ylabel('Bedrooms')\n",
    "    sp.set_zlabel('Price')\n",
    "    sp.set_title(f'angle = {view_angle}')\n",
    "    # Customize tick locators\n",
    "    sp.yaxis.set_major_locator(ticker.MultipleLocator(1.00))\n",
    "    sp.zaxis.set_major_locator(ticker.MultipleLocator(200000))\n",
    "    # Plot examples\n",
    "    sp.scatter(X[:,0], X[:,1], y)\n",
    "    # Plot regression area\n",
    "    sp.plot_surface(grid[0], grid[1], y_grid, color='y', alpha=0.2)\n",
    "\n",
    "# Create new figure\n",
    "fig = plt.figure(2, figsize=[9, 10])\n",
    " \n",
    "# Plot data and regression from two different angles\n",
    "plot_data_and_regression(fig, fignum=1, view_angle=20)\n",
    "plot_data_and_regression(fig, fignum=2, view_angle=75)"
   ]
  },
  {
   "cell_type": "code",
   "execution_count": null,
   "metadata": {},
   "outputs": [],
   "source": [
    "# Training mean squared error\n",
    "np.mean((model.predict(X) - y) ** 2)"
   ]
  },
  {
   "cell_type": "code",
   "execution_count": null,
   "metadata": {},
   "outputs": [],
   "source": [
    "# Training score\n",
    "model.score(X, y)"
   ]
  }
 ],
 "metadata": {
  "kernelspec": {
   "display_name": "Python 3",
   "language": "python",
   "name": "python3"
  },
  "language_info": {
   "codemirror_mode": {
    "name": "ipython",
    "version": 3
   },
   "file_extension": ".py",
   "mimetype": "text/x-python",
   "name": "python",
   "nbconvert_exporter": "python",
   "pygments_lexer": "ipython3",
   "version": "3.6.3"
  }
 },
 "nbformat": 4,
 "nbformat_minor": 1
}
