{
 "cells": [
  {
   "cell_type": "markdown",
   "metadata": {},
   "source": [
    "## Neural networks learning"
   ]
  },
  {
   "cell_type": "code",
   "execution_count": 1,
   "metadata": {
    "collapsed": true
   },
   "outputs": [],
   "source": [
    "import scipy.io as sio\n",
    "import pandas as pd\n",
    "import matplotlib.pyplot as plt\n",
    "\n",
    "from sklearn.neural_network import MLPClassifier\n",
    "from sklearn.model_selection import StratifiedShuffleSplit, GridSearchCV\n",
    "\n",
    "%matplotlib inline"
   ]
  },
  {
   "cell_type": "code",
   "execution_count": 2,
   "metadata": {
    "collapsed": true
   },
   "outputs": [],
   "source": [
    "# Load the hand-written digits dataset\n",
    "digits = sio.loadmat('data/ml-ex4/ex4data1.mat')"
   ]
  },
  {
   "cell_type": "code",
   "execution_count": 3,
   "metadata": {
    "collapsed": true
   },
   "outputs": [],
   "source": [
    "# Digit image data (5000 images with 400 features/pixels)\n",
    "X = digits['X']\n",
    "\n",
    "# Digit classes (1-10) where digit 0 is assigned class 10\n",
    "y = digits['y'].ravel()"
   ]
  },
  {
   "cell_type": "code",
   "execution_count": 4,
   "metadata": {},
   "outputs": [
    {
     "data": {
      "text/plain": [
       "MLPClassifier(activation='logistic', alpha=0.0001, batch_size='auto',\n",
       "       beta_1=0.9, beta_2=0.999, early_stopping=False, epsilon=1e-08,\n",
       "       hidden_layer_sizes=(25,), learning_rate='constant',\n",
       "       learning_rate_init=0.001, max_iter=200, momentum=0.9,\n",
       "       nesterovs_momentum=True, power_t=0.5, random_state=None,\n",
       "       shuffle=True, solver='lbfgs', tol=0.0001, validation_fraction=0.1,\n",
       "       verbose=False, warm_start=False)"
      ]
     },
     "execution_count": 4,
     "metadata": {},
     "output_type": "execute_result"
    }
   ],
   "source": [
    "# Create a feed-forward neural network with a single hidden layer \n",
    "# with 25 logistic units. Input layer size is derived from number\n",
    "# of features in X. Output layer size is derived from number of \n",
    "# classes in y.\n",
    "clf = MLPClassifier((25,), activation='logistic', solver='lbfgs')\n",
    "clf.fit(X, y)"
   ]
  },
  {
   "cell_type": "code",
   "execution_count": 5,
   "metadata": {},
   "outputs": [
    {
     "data": {
      "text/plain": [
       "1.0"
      ]
     },
     "execution_count": 5,
     "metadata": {},
     "output_type": "execute_result"
    }
   ],
   "source": [
    "# Classification accuracy on training set\n",
    "clf.score(X, y)"
   ]
  },
  {
   "cell_type": "code",
   "execution_count": 12,
   "metadata": {},
   "outputs": [
    {
     "data": {
      "text/plain": [
       "GridSearchCV(cv=StratifiedShuffleSplit(n_splits=2, random_state=0, test_size=0.1,\n",
       "            train_size=None),\n",
       "       error_score='raise',\n",
       "       estimator=MLPClassifier(activation='logistic', alpha=0.0001, batch_size='auto',\n",
       "       beta_1=0.9, beta_2=0.999, early_stopping=False, epsilon=1e-08,\n",
       "       hidden_layer_sizes=(25,), learning_rate='constant',\n",
       "       learning_rate_init=0.001, max_iter=200, momentum=0.9,\n",
       "       nesterovs_momentum=True, power_t=0.5, random_state=None,\n",
       "       shuffle=True, solver='lbfgs', tol=0.0001, validation_fraction=0.1,\n",
       "       verbose=False, warm_start=False),\n",
       "       fit_params={}, iid=True, n_jobs=1,\n",
       "       param_grid={'alpha': [0.01, 0.1, 1.0, 10.0]},\n",
       "       pre_dispatch='2*n_jobs', refit=True, return_train_score=True,\n",
       "       scoring=None, verbose=0)"
      ]
     },
     "execution_count": 12,
     "metadata": {},
     "output_type": "execute_result"
    }
   ],
   "source": [
    "# For cross validation, use two stratified randomized folds \n",
    "# where the test set size = 0.1 * dataset size. Statified \n",
    "# means that the folds are made by preserving the percentage \n",
    "# of samples for each class.\n",
    "cv = StratifiedShuffleSplit(2, test_size=0.1, random_state=0)\n",
    "\n",
    "# Run a grid search to find the best value values for regularization \n",
    "# parameter alpha using the cross validator (cv) defined above.\n",
    "gs = GridSearchCV(clf, param_grid={'alpha':[1e-2, 1e-1, 1e0, 1e1]}, cv=cv)\n",
    "gs.fit(X, y)"
   ]
  },
  {
   "cell_type": "code",
   "execution_count": 7,
   "metadata": {},
   "outputs": [
    {
     "data": {
      "text/html": [
       "<div>\n",
       "<style>\n",
       "    .dataframe thead tr:only-child th {\n",
       "        text-align: right;\n",
       "    }\n",
       "\n",
       "    .dataframe thead th {\n",
       "        text-align: left;\n",
       "    }\n",
       "\n",
       "    .dataframe tbody tr th {\n",
       "        vertical-align: top;\n",
       "    }\n",
       "</style>\n",
       "<table border=\"1\" class=\"dataframe\">\n",
       "  <thead>\n",
       "    <tr style=\"text-align: right;\">\n",
       "      <th></th>\n",
       "      <th>mean_fit_time</th>\n",
       "      <th>mean_score_time</th>\n",
       "      <th>mean_test_score</th>\n",
       "      <th>mean_train_score</th>\n",
       "      <th>param_alpha</th>\n",
       "      <th>params</th>\n",
       "      <th>rank_test_score</th>\n",
       "      <th>split0_test_score</th>\n",
       "      <th>split0_train_score</th>\n",
       "      <th>split1_test_score</th>\n",
       "      <th>split1_train_score</th>\n",
       "      <th>std_fit_time</th>\n",
       "      <th>std_score_time</th>\n",
       "      <th>std_test_score</th>\n",
       "      <th>std_train_score</th>\n",
       "    </tr>\n",
       "  </thead>\n",
       "  <tbody>\n",
       "    <tr>\n",
       "      <th>0</th>\n",
       "      <td>1.437032</td>\n",
       "      <td>0.001812</td>\n",
       "      <td>0.919</td>\n",
       "      <td>1.000000</td>\n",
       "      <td>0.01</td>\n",
       "      <td>{'alpha': 0.01}</td>\n",
       "      <td>4</td>\n",
       "      <td>0.910</td>\n",
       "      <td>1.000000</td>\n",
       "      <td>0.928</td>\n",
       "      <td>1.000000</td>\n",
       "      <td>0.004382</td>\n",
       "      <td>0.000024</td>\n",
       "      <td>0.009</td>\n",
       "      <td>0.000000</td>\n",
       "    </tr>\n",
       "    <tr>\n",
       "      <th>1</th>\n",
       "      <td>2.473062</td>\n",
       "      <td>0.001954</td>\n",
       "      <td>0.937</td>\n",
       "      <td>1.000000</td>\n",
       "      <td>0.1</td>\n",
       "      <td>{'alpha': 0.1}</td>\n",
       "      <td>2</td>\n",
       "      <td>0.924</td>\n",
       "      <td>1.000000</td>\n",
       "      <td>0.950</td>\n",
       "      <td>1.000000</td>\n",
       "      <td>0.046205</td>\n",
       "      <td>0.000198</td>\n",
       "      <td>0.013</td>\n",
       "      <td>0.000000</td>\n",
       "    </tr>\n",
       "    <tr>\n",
       "      <th>2</th>\n",
       "      <td>4.012578</td>\n",
       "      <td>0.002556</td>\n",
       "      <td>0.946</td>\n",
       "      <td>0.997556</td>\n",
       "      <td>1</td>\n",
       "      <td>{'alpha': 1.0}</td>\n",
       "      <td>1</td>\n",
       "      <td>0.936</td>\n",
       "      <td>0.997333</td>\n",
       "      <td>0.956</td>\n",
       "      <td>0.997778</td>\n",
       "      <td>0.067075</td>\n",
       "      <td>0.000335</td>\n",
       "      <td>0.010</td>\n",
       "      <td>0.000222</td>\n",
       "    </tr>\n",
       "    <tr>\n",
       "      <th>3</th>\n",
       "      <td>4.014157</td>\n",
       "      <td>0.002660</td>\n",
       "      <td>0.920</td>\n",
       "      <td>0.943222</td>\n",
       "      <td>10</td>\n",
       "      <td>{'alpha': 10.0}</td>\n",
       "      <td>3</td>\n",
       "      <td>0.912</td>\n",
       "      <td>0.942889</td>\n",
       "      <td>0.928</td>\n",
       "      <td>0.943556</td>\n",
       "      <td>0.046254</td>\n",
       "      <td>0.000469</td>\n",
       "      <td>0.008</td>\n",
       "      <td>0.000333</td>\n",
       "    </tr>\n",
       "  </tbody>\n",
       "</table>\n",
       "</div>"
      ],
      "text/plain": [
       "   mean_fit_time  mean_score_time  mean_test_score  mean_train_score  \\\n",
       "0       1.437032         0.001812            0.919          1.000000   \n",
       "1       2.473062         0.001954            0.937          1.000000   \n",
       "2       4.012578         0.002556            0.946          0.997556   \n",
       "3       4.014157         0.002660            0.920          0.943222   \n",
       "\n",
       "  param_alpha           params  rank_test_score  split0_test_score  \\\n",
       "0        0.01  {'alpha': 0.01}                4              0.910   \n",
       "1         0.1   {'alpha': 0.1}                2              0.924   \n",
       "2           1   {'alpha': 1.0}                1              0.936   \n",
       "3          10  {'alpha': 10.0}                3              0.912   \n",
       "\n",
       "   split0_train_score  split1_test_score  split1_train_score  std_fit_time  \\\n",
       "0            1.000000              0.928            1.000000      0.004382   \n",
       "1            1.000000              0.950            1.000000      0.046205   \n",
       "2            0.997333              0.956            0.997778      0.067075   \n",
       "3            0.942889              0.928            0.943556      0.046254   \n",
       "\n",
       "   std_score_time  std_test_score  std_train_score  \n",
       "0        0.000024           0.009         0.000000  \n",
       "1        0.000198           0.013         0.000000  \n",
       "2        0.000335           0.010         0.000222  \n",
       "3        0.000469           0.008         0.000333  "
      ]
     },
     "execution_count": 7,
     "metadata": {},
     "output_type": "execute_result"
    }
   ],
   "source": [
    "# Show the cross validation results in a pandas data frame\n",
    "# - column mean_train_score: mean classification accuracy on training set\n",
    "# - column mean_test_score: mean classification accuracy on test set\n",
    "pd.DataFrame(gs.cv_results_)"
   ]
  },
  {
   "cell_type": "code",
   "execution_count": 8,
   "metadata": {},
   "outputs": [
    {
     "data": {
      "text/plain": [
       "MLPClassifier(activation='logistic', alpha=1.0, batch_size='auto', beta_1=0.9,\n",
       "       beta_2=0.999, early_stopping=False, epsilon=1e-08,\n",
       "       hidden_layer_sizes=(25,), learning_rate='constant',\n",
       "       learning_rate_init=0.001, max_iter=200, momentum=0.9,\n",
       "       nesterovs_momentum=True, power_t=0.5, random_state=None,\n",
       "       shuffle=True, solver='lbfgs', tol=0.0001, validation_fraction=0.1,\n",
       "       verbose=False, warm_start=False)"
      ]
     },
     "execution_count": 8,
     "metadata": {},
     "output_type": "execute_result"
    }
   ],
   "source": [
    "# Best classifier is the neural network with alpha=1.0\n",
    "clf_best = gs.best_estimator_\n",
    "clf_best"
   ]
  },
  {
   "cell_type": "code",
   "execution_count": 9,
   "metadata": {},
   "outputs": [
    {
     "data": {
      "text/plain": [
       "0.99739999999999995"
      ]
     },
     "execution_count": 9,
     "metadata": {},
     "output_type": "execute_result"
    }
   ],
   "source": [
    "# Classification accuracy on training set\n",
    "clf_best.score(X, y)"
   ]
  },
  {
   "cell_type": "code",
   "execution_count": 10,
   "metadata": {},
   "outputs": [
    {
     "data": {
      "text/plain": [
       "(25, 400)"
      ]
     },
     "execution_count": 10,
     "metadata": {},
     "output_type": "execute_result"
    }
   ],
   "source": [
    "# Obtain weight matrix between input and hidden layer\n",
    "# (input layer size = 400, hidden layer size = 25)\n",
    "Theta1 = clf_best.coefs_[0].T\n",
    "Theta1.shape"
   ]
  },
  {
   "cell_type": "code",
   "execution_count": 11,
   "metadata": {},
   "outputs": [
    {
     "data": {
      "text/plain": [
       "<matplotlib.figure.Figure at 0x10684c860>"
      ]
     },
     "metadata": {},
     "output_type": "display_data"
    },
    {
     "data": {
      "image/png": "[encoded data removed]",
      "text/plain": [
       "<matplotlib.figure.Figure at 0x10684c8d0>"
      ]
     },
     "metadata": {},
     "output_type": "display_data"
    }
   ],
   "source": [
    "# Visualize input weights into hidden units (400 per hidden unit)\n",
    "n_rows = 5\n",
    "n_cols = 5\n",
    "\n",
    "plt.subplots_adjust(top=.9, hspace=.4)\n",
    "plt.figure(figsize=(1.8 * n_cols, 2.4 * n_rows))\n",
    "\n",
    "for i, row in enumerate(Theta1):\n",
    "    plt.subplot(n_rows, n_cols, i + 1)\n",
    "    plt.imshow(row.reshape((20,20), order='F'), cmap=plt.cm.gray)\n",
    "    plt.title(f'hidden unit {i + 1}')\n",
    "    plt.xticks(())\n",
    "    plt.yticks(())"
   ]
  }
 ],
 "metadata": {
  "kernelspec": {
   "display_name": "Python 3",
   "language": "python",
   "name": "python3"
  },
  "language_info": {
   "codemirror_mode": {
    "name": "ipython",
    "version": 3
   },
   "file_extension": ".py",
   "mimetype": "text/x-python",
   "name": "python",
   "nbconvert_exporter": "python",
   "pygments_lexer": "ipython3",
   "version": "3.6.3"
  }
 },
 "nbformat": 4,
 "nbformat_minor": 2
}
